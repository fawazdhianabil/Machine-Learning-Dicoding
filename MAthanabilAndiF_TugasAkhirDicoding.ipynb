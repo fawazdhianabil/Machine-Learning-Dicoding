{
  "nbformat": 4,
  "nbformat_minor": 0,
  "metadata": {
    "colab": {
      "name": "MAthanabilAndiF_TugasAkhirDicoding.ipynb",
      "provenance": [],
      "collapsed_sections": [],
      "authorship_tag": "ABX9TyNOwZNCm+IW36EWtANrxa7G",
      "include_colab_link": true
    },
    "kernelspec": {
      "display_name": "Python 3",
      "name": "python3"
    },
    "language_info": {
      "name": "python"
    }
  },
  "cells": [
    {
      "cell_type": "markdown",
      "metadata": {
        "id": "view-in-github",
        "colab_type": "text"
      },
      "source": [
        "<a href=\"https://colab.research.google.com/github/fawazdhianabil/Machine-Learning-Dicoding/blob/main/MAthanabilAndiF_TugasAkhirDicoding.ipynb\" target=\"_parent\"><img src=\"https://colab.research.google.com/assets/colab-badge.svg\" alt=\"Open In Colab\"/></a>"
      ]
    },
    {
      "cell_type": "markdown",
      "metadata": {
        "id": "WwsGFWy8HCCJ"
      },
      "source": [
        "##Identitas Penyusun"
      ]
    },
    {
      "cell_type": "markdown",
      "metadata": {
        "id": "x6bIqhtuHK71"
      },
      "source": [
        "Salam sejahtera buat kita semua\n",
        "Semoga kita selalu diberikan kesehatan dan selalu dilindungi oleh Tuhan Yang Maha Esa.\n",
        "\n",
        "Perkenalkan saya sebagai penyusun :\n",
        "Muhammad Athanabil Andi Fawazdhia\n",
        "seorang Mahasiswa Matematika Komputasi yang berdomisili di Bintan, Kepulauan Riau.\n",
        "\n",
        "Terimakasih saya ucapkan buat Indosat dan Tim Dicoding terkait beasiswa yang diberikan kepada saya sehingga saya bisa mengakses modul yang luar biasa dan mendapat ilmu baru."
      ]
    },
    {
      "cell_type": "code",
      "metadata": {
        "colab": {
          "background_save": true,
          "base_uri": "https://localhost:8080/"
        },
        "id": "4l4ByavCGKRm",
        "outputId": "ffc78776-6ff1-41f0-a98a-d37cab74b303"
      },
      "source": [
        "#Mendownload file yang ditentukan dicoding\n",
        "!wget --no-check-certificate https://dicodingacademy.blob.core.windows.net/picodiploma/ml_pemula_academy/rockpaperscissors.zip"
      ],
      "execution_count": null,
      "outputs": [
        {
          "name": "stdout",
          "output_type": "stream",
          "text": [
            "--2021-06-08 08:11:38--  https://dicodingacademy.blob.core.windows.net/picodiploma/ml_pemula_academy/rockpaperscissors.zip\n",
            "Resolving dicodingacademy.blob.core.windows.net (dicodingacademy.blob.core.windows.net)... 52.239.197.36\n",
            "Connecting to dicodingacademy.blob.core.windows.net (dicodingacademy.blob.core.windows.net)|52.239.197.36|:443... connected.\n",
            "HTTP request sent, awaiting response... 200 OK\n",
            "Length: 322873683 (308M) [application/zip]\n",
            "Saving to: ‘rockpaperscissors.zip’\n",
            "\n",
            "rockpaperscissors.z 100%[===================>] 307.92M  1.33MB/s    in 4m 57s  \n",
            "\n",
            "2021-06-08 08:16:36 (1.04 MB/s) - ‘rockpaperscissors.zip’ saved [322873683/322873683]\n",
            "\n"
          ]
        }
      ]
    },
    {
      "cell_type": "code",
      "metadata": {
        "id": "tT50O9VpPu8y"
      },
      "source": [
        "import os\n",
        "#Import os yang tujuannya untuk mengakses folder data di data set\n",
        "\n",
        "import zipfile\n",
        "#Import zipfile yang tujuannya untuk membaca file dengan format .zip"
      ],
      "execution_count": null,
      "outputs": []
    },
    {
      "cell_type": "code",
      "metadata": {
        "id": "ndNnRoTdKMEJ"
      },
      "source": [
        "##Setelah didownload tentunya data set harus diekstrak\n",
        "\n",
        "fz = '/content/rockpaperscissors.zip'\n",
        "#fz disini adalah untuk menentukan dimana letak file yang sudah didownload tadi\n",
        "#dan path folder tersebut saya copy dari folder google collab\n",
        "\n",
        "fz_ref = zipfile.ZipFile(fz,'r')\n",
        "#Untuk mengekstrak file format .zip\n",
        "\n",
        "fz_ref.extractall('/content/')\n",
        "#Untuk menentukan kemana folder yang menjadi tempat mengekstrak\n",
        "\n",
        "fz_ref.close()\n",
        "#Untuk menghentikan fungsi fz_ref\n",
        "\n",
        "##Setelah di ekstrak saya mencoba mendefinisikan folder folder yang ada\n",
        "\n",
        "kertas = os.path.join('/content/rockpaperscissors/paper')\n",
        "#Nantinya berguna untuk folder data training untuk gambar kertas/paper\n",
        "\n",
        "batu = os.path.join('/content/rockpaperscissors/rock')\n",
        "#Nantinya berguna untuk folder data training untuk gambar batu/rock\n",
        "\n",
        "gunting = os.path.join('/content/rockpaperscissors/scissors')\n",
        "#Nantinya berguna untuk folder data training untuk gambar gunting/scissors"
      ],
      "execution_count": null,
      "outputs": []
    },
    {
      "cell_type": "code",
      "metadata": {
        "colab": {
          "base_uri": "https://localhost:8080/"
        },
        "id": "lrS8NkbqMYJl",
        "outputId": "2fa1306f-a1e9-4eaa-d0bb-aa45533512ba"
      },
      "source": [
        "##Selanjutnya saya mencoba mencari tahu seberapa banyak file tiap folder\n",
        "\n",
        "fk = os.listdir(kertas)\n",
        "#Membuat sebuah list file berdasarkan folder kertas yang ada\n",
        "\n",
        "fb = os.listdir(batu)\n",
        "#Membuat sebuah list file berdasarkan folder batu yang ada\n",
        "\n",
        "fg = os.listdir(gunting)\n",
        "#Membuat sebuah list file berdasarkan folder gunting yang ada\n",
        "\n",
        "##Mencoba mencari tahu berapa banyak dengan fungsi len()\n",
        "print('-------------------------------------------')\n",
        "#Untuk menampilkan objek string ---\n",
        "\n",
        "print('Banyaknya file pada folder kertas = ', len(fk))\n",
        "#Untuk menampilkan banyaknya file pada folder kertas/fk\n",
        "\n",
        "print('Banyaknya file pada folder batu = ', len(fb))\n",
        "#Untuk menampilkan banyaknya file pada folder batu/fb\n",
        "\n",
        "print('Banyaknya file pada folder gunting = ', len(fg))\n",
        "#Untuk menampilkan banyaknya file pada folder gunting/fg\n",
        "\n",
        "print('-------------------------------------------')\n",
        "#Untuk menampilkan objek string ---\n",
        "\n",
        "print('Ternyata yang paling banyak, sebanyak', max(len(fk),len(fg),len(fb)),'file')\n",
        "#Mencari tahu folder dengan file terbanyak dengan fungsi max()\n",
        "\n",
        "print('Total file secara keseluruhan 3 folder sebanyak', (len(fk)+len(fg)+len(fb)), 'file')\n",
        "#Menjumlahkan keseluruhan file pada 3 folder"
      ],
      "execution_count": null,
      "outputs": [
        {
          "name": "stdout",
          "output_type": "stream",
          "text": [
            "-------------------------------------------\n",
            "Banyaknya file pada folder kertas =  712\n",
            "Banyaknya file pada folder batu =  726\n",
            "Banyaknya file pada folder gunting =  750\n",
            "-------------------------------------------\n",
            "Ternyata yang paling banyak, sebanyak 750 file\n",
            "Total file secara keseluruhan 3 folder sebanyak 2188 file\n"
          ]
        }
      ]
    },
    {
      "cell_type": "code",
      "metadata": {
        "id": "PmeKslWRR33m"
      },
      "source": [
        "##Selanjutanya penyusun mencoba menggunakan Image Generator\n",
        "##Tetapi import dulu modul modul yang dibutuhkan \n",
        "\n",
        "import keras_preprocessing\n",
        "#Mengimport modul keras\n",
        "\n",
        "from keras_preprocessing import image\n",
        "#Mengimport modul keras_preprocessing untuk gambar/image\n",
        "\n",
        "from keras_preprocessing.image import ImageDataGenerator\n",
        "#Mengimport modul keras_preprocessing untuk Image Generator\n",
        "\n",
        "import tensorflow as tf\n",
        "#Mengimpor modul tensorflow"
      ],
      "execution_count": null,
      "outputs": []
    },
    {
      "cell_type": "code",
      "metadata": {
        "id": "Nvz54t3AWyGp"
      },
      "source": [
        "##Melakukan Augmentasi\n",
        "\n",
        "mf = '/content/rockpaperscissors/rps-cv-images'\n",
        "#Mendefinisikan folder utama terlebih dahulu\n",
        "\n",
        "dt = ImageDataGenerator(\n",
        "#Memanfaatkan Image Generator dan memanfaatkan fiturnya\n",
        "\n",
        "#Perlu diketahui untuk memperhatikan argumen yang ada pada Image Generator \n",
        "\n",
        "    rescale = 1./300,\n",
        "    #Mencoba menormalisasi data\n",
        "    \n",
        "    rotation_range = 90,\n",
        "    #Merotasi gambar sebanyak 90 derajat\n",
        "\n",
        "    width_shift_range = 0.2,\n",
        "    #Melebarkan gambar sebanyak 20% atau 0.2\n",
        "\n",
        "    height_shift_range = 0.2,\n",
        "    #Meninggikan gambar sebanyak 20% atau 0.2\n",
        "\n",
        "    shear_range = 0.2,\n",
        "    #Memangkas gambar sebanyak 20% atau 0.2\n",
        "\n",
        "    zoom_range=0.2,\n",
        "    #Mengzoom gambar sebanyak 20% atau 0.2\n",
        "\n",
        "    horizontal_flip = True,\n",
        "    #Memutar gambar secara horizontal\n",
        "\n",
        "    fill_mode = 'nearest',\n",
        "    #Mengisi gambar yang kosong dengan gambar terdekat\n",
        "\n",
        "    validation_split=0.4\n",
        "    #Memisahkan atau memecah data menjadi...\n",
        "    #60 atau 0.6 untuk data training\n",
        "    #40% atau 0.4 untuk data validasi\n",
        "\n",
        ")"
      ],
      "execution_count": null,
      "outputs": []
    },
    {
      "cell_type": "code",
      "metadata": {
        "colab": {
          "base_uri": "https://localhost:8080/"
        },
        "id": "8sL4WZOlc6ip",
        "outputId": "c2b59db5-2571-4081-a811-368d016c6138"
      },
      "source": [
        "train_generator = dt.flow_from_directory(\n",
        "#Membuat generator data training    \n",
        "    \n",
        "    mf,\n",
        "    #Folder utama diatas kita jadikan target yang ingin digenerator\n",
        "\n",
        "    target_size=(150,150),\n",
        "    #Resolusi seluruh gambar berubah jadi 150x150\n",
        "\n",
        "    class_mode='categorical',\n",
        "    #Kelas data kategori klasfikasi\n",
        "\n",
        "    shuffle = True, subset ='training')\n",
        "    #Mencari kecocokan dan menjadikan subset nya menjadi training atau untuk data training\n",
        "\n",
        "validation_generator = dt.flow_from_directory(\n",
        "#Membuat generator data validasi\n",
        "    \n",
        "    mf,\n",
        "    #Folder utama diatas kita jadikan target yang ingin digenerator\n",
        "\n",
        "    target_size=(150,150),\n",
        "    #Resolusi seluruh gambar berubah jadi 150x150\n",
        "\n",
        "    class_mode='categorical',\n",
        "    #Kelas data kategori klasfikasi\n",
        "\n",
        "    shuffle = True, subset ='validation')\n",
        "    #Mencari kecocokan dan menjadikan subset nya menjadi validation atau untuk data validasi \n",
        "\n",
        "\n"
      ],
      "execution_count": null,
      "outputs": [
        {
          "name": "stdout",
          "output_type": "stream",
          "text": [
            "Found 1314 images belonging to 3 classes.\n",
            "Found 874 images belonging to 3 classes.\n"
          ]
        }
      ]
    },
    {
      "cell_type": "code",
      "metadata": {
        "colab": {
          "base_uri": "https://localhost:8080/"
        },
        "id": "0RO8up9NMgIk",
        "outputId": "6c1366ba-8545-468d-f41a-cc950ea9881d"
      },
      "source": [
        "#Membuat model JST atau Jaringan Saraf Tiruan\n",
        "#Menggunakan model Sequential\n",
        "\n",
        "model = tf.keras.models.Sequential([                                            \n",
        "#Membentuk model Sequential yang diminta\n",
        "\n",
        "    tf.keras.layers.Conv2D(16, (3,3), activation='relu', input_shape=(150, 150, 3)),\n",
        "    tf.keras.layers.MaxPooling2D(2, 2),\n",
        "    #Sebagai layer konvulsi pertama\n",
        "\n",
        "    tf.keras.layers.Conv2D(32, (3,3), activation='relu'),\n",
        "    tf.keras.layers.MaxPooling2D(2,2), \n",
        "    #Sebagai layer konvolsi kedua\n",
        "\n",
        "    tf.keras.layers.Conv2D(32, (3,3), activation='relu'),\n",
        "    tf.keras.layers.MaxPooling2D(2,2),\n",
        "    #Sebagai layar konvulsi ketiga\n",
        "\n",
        "    tf.keras.layers.Flatten(),                                                  \n",
        "    tf.keras.layers.Dropout(0.5),\n",
        "    #Sebagai layer input untuk deep learning NN\n",
        "\n",
        "    tf.keras.layers.Dense(128, activation='relu'),\n",
        "    #Hiden layer pertama sebanyak 128 neuron\n",
        "\n",
        "    tf.keras.layers.Dense(512, activation='relu'),\n",
        "    #Hiden layer kedua sebanyak  512 neuron\n",
        "\n",
        "    tf.keras.layers.Dense(3, activation='softmax')])\n",
        "    #Sebagai layer output\n",
        "\n",
        "model.summary()\n",
        "#Mencari tahu summary dari model Sequential\n",
        "\n",
        "model.compile(loss = 'categorical_crossentropy', optimizer='rmsprop', metrics=['accuracy'])\n",
        "#Untuk melakukan kompilasi model\n",
        "\n",
        "ht = model.fit(train_generator, epochs=25, steps_per_epoch=25, validation_data = validation_generator, verbose = 2, validation_steps=5)\n",
        "#Melatih model JST atau Jaringan Saraf Tiruan yang sudah dibuat"
      ],
      "execution_count": null,
      "outputs": [
        {
          "name": "stdout",
          "output_type": "stream",
          "text": [
            "Model: \"sequential\"\n",
            "_________________________________________________________________\n",
            "Layer (type)                 Output Shape              Param #   \n",
            "=================================================================\n",
            "conv2d (Conv2D)              (None, 148, 148, 16)      448       \n",
            "_________________________________________________________________\n",
            "max_pooling2d (MaxPooling2D) (None, 74, 74, 16)        0         \n",
            "_________________________________________________________________\n",
            "conv2d_1 (Conv2D)            (None, 72, 72, 32)        4640      \n",
            "_________________________________________________________________\n",
            "max_pooling2d_1 (MaxPooling2 (None, 36, 36, 32)        0         \n",
            "_________________________________________________________________\n",
            "conv2d_2 (Conv2D)            (None, 34, 34, 32)        9248      \n",
            "_________________________________________________________________\n",
            "max_pooling2d_2 (MaxPooling2 (None, 17, 17, 32)        0         \n",
            "_________________________________________________________________\n",
            "flatten (Flatten)            (None, 9248)              0         \n",
            "_________________________________________________________________\n",
            "dropout (Dropout)            (None, 9248)              0         \n",
            "_________________________________________________________________\n",
            "dense (Dense)                (None, 128)               1183872   \n",
            "_________________________________________________________________\n",
            "dense_1 (Dense)              (None, 512)               66048     \n",
            "_________________________________________________________________\n",
            "dense_2 (Dense)              (None, 3)                 1539      \n",
            "=================================================================\n",
            "Total params: 1,265,795\n",
            "Trainable params: 1,265,795\n",
            "Non-trainable params: 0\n",
            "_________________________________________________________________\n",
            "Epoch 1/25\n",
            "25/25 - 21s - loss: 1.1367 - accuracy: 0.3762 - val_loss: 1.0799 - val_accuracy: 0.3438\n",
            "Epoch 2/25\n",
            "25/25 - 20s - loss: 1.0638 - accuracy: 0.4425 - val_loss: 1.0438 - val_accuracy: 0.4375\n",
            "Epoch 3/25\n",
            "25/25 - 19s - loss: 1.0724 - accuracy: 0.4558 - val_loss: 1.0428 - val_accuracy: 0.4688\n",
            "Epoch 4/25\n",
            "25/25 - 19s - loss: 1.0357 - accuracy: 0.4623 - val_loss: 0.9993 - val_accuracy: 0.4250\n",
            "Epoch 5/25\n",
            "25/25 - 19s - loss: 1.0268 - accuracy: 0.4844 - val_loss: 1.0097 - val_accuracy: 0.5063\n",
            "Epoch 6/25\n",
            "25/25 - 19s - loss: 0.9585 - accuracy: 0.5494 - val_loss: 1.0191 - val_accuracy: 0.4313\n",
            "Epoch 7/25\n",
            "25/25 - 19s - loss: 0.8988 - accuracy: 0.6225 - val_loss: 0.7372 - val_accuracy: 0.7125\n",
            "Epoch 8/25\n",
            "25/25 - 19s - loss: 0.7741 - accuracy: 0.6775 - val_loss: 0.6628 - val_accuracy: 0.7625\n",
            "Epoch 9/25\n",
            "25/25 - 19s - loss: 0.7841 - accuracy: 0.6600 - val_loss: 0.6117 - val_accuracy: 0.8125\n",
            "Epoch 10/25\n",
            "25/25 - 19s - loss: 0.7321 - accuracy: 0.6700 - val_loss: 0.6025 - val_accuracy: 0.8062\n",
            "Epoch 11/25\n",
            "25/25 - 19s - loss: 0.6294 - accuracy: 0.7362 - val_loss: 1.0597 - val_accuracy: 0.6562\n",
            "Epoch 12/25\n",
            "25/25 - 19s - loss: 0.6194 - accuracy: 0.7610 - val_loss: 0.4385 - val_accuracy: 0.8813\n",
            "Epoch 13/25\n",
            "25/25 - 19s - loss: 0.5857 - accuracy: 0.7688 - val_loss: 0.6580 - val_accuracy: 0.6812\n",
            "Epoch 14/25\n",
            "25/25 - 19s - loss: 0.5225 - accuracy: 0.8288 - val_loss: 0.5085 - val_accuracy: 0.7500\n",
            "Epoch 15/25\n",
            "25/25 - 19s - loss: 0.5246 - accuracy: 0.8104 - val_loss: 0.2761 - val_accuracy: 0.9187\n",
            "Epoch 16/25\n",
            "25/25 - 19s - loss: 0.4855 - accuracy: 0.8182 - val_loss: 0.3148 - val_accuracy: 0.9125\n",
            "Epoch 17/25\n",
            "25/25 - 18s - loss: 0.4275 - accuracy: 0.8597 - val_loss: 0.3329 - val_accuracy: 0.9062\n",
            "Epoch 18/25\n",
            "25/25 - 19s - loss: 0.3986 - accuracy: 0.8571 - val_loss: 0.2877 - val_accuracy: 0.8938\n",
            "Epoch 19/25\n",
            "25/25 - 19s - loss: 0.3956 - accuracy: 0.8532 - val_loss: 0.7224 - val_accuracy: 0.7312\n",
            "Epoch 20/25\n",
            "25/25 - 19s - loss: 0.4528 - accuracy: 0.8550 - val_loss: 0.1996 - val_accuracy: 0.9375\n",
            "Epoch 21/25\n",
            "25/25 - 18s - loss: 0.4062 - accuracy: 0.8597 - val_loss: 0.2718 - val_accuracy: 0.9000\n",
            "Epoch 22/25\n",
            "25/25 - 19s - loss: 0.2896 - accuracy: 0.9039 - val_loss: 0.1965 - val_accuracy: 0.9500\n",
            "Epoch 23/25\n",
            "25/25 - 19s - loss: 0.3172 - accuracy: 0.8825 - val_loss: 0.2221 - val_accuracy: 0.9187\n",
            "Epoch 24/25\n",
            "25/25 - 19s - loss: 0.3411 - accuracy: 0.8948 - val_loss: 0.7455 - val_accuracy: 0.7563\n",
            "Epoch 25/25\n",
            "25/25 - 19s - loss: 0.3259 - accuracy: 0.8922 - val_loss: 0.2676 - val_accuracy: 0.9187\n"
          ]
        }
      ]
    },
    {
      "cell_type": "code",
      "metadata": {
        "id": "s4GlPZCZQuRj"
      },
      "source": [
        "import matplotlib.pyplot as plt\n",
        "#Import matpolib yang tujuannya untuk membantu membuat plot\n"
      ],
      "execution_count": null,
      "outputs": []
    },
    {
      "cell_type": "code",
      "metadata": {
        "colab": {
          "base_uri": "https://localhost:8080/",
          "height": 298
        },
        "id": "_GJo7kynZLjE",
        "outputId": "973f5763-94c3-4466-a886-64798b472457"
      },
      "source": [
        "akurasi = ht.history['accuracy']\n",
        "#Menghitung akurasi\n",
        "\n",
        "val_akurasi = ht.history['val_accuracy']\n",
        "#Menghitung akurasi validasi\n",
        "\n",
        "loss = ht.history['loss']\n",
        "#Menghitung loss\n",
        "\n",
        "val_loss = ht.history['val_loss']\n",
        "#Menghitung loss validasi\n",
        "\n",
        "epochs = range(len(akurasi))\n",
        "#Menghitung jumlah epoch dengan mencari panjang akurasi\n",
        "\n",
        "plt.plot(epochs,akurasi,'b',label='Accuracy Data Training')\n",
        "# Membuat sebuah plot akurasi\n",
        "\n",
        "plt.plot(epochs,val_akurasi,'r', label='Accuracy Data Validation')\n",
        "#Membuat sebuah plot dari akurasi validasi\n",
        "\n",
        "plt.title('Accuracy of Data Training & Data Validation')\n",
        "#Membuat judulnya\n",
        "\n",
        "plt.legend(loc=4)\n",
        "#Menentukan letak legendnya\n",
        "\n",
        "plt.figure()\n",
        "#Menggabungkan plot\n",
        "\n",
        "plt.show()\n",
        "#Menampilkan plot"
      ],
      "execution_count": null,
      "outputs": [
        {
          "data": {
            "image/png": "[encoded data removed]",
            "text/plain": [
              "<Figure size 432x288 with 1 Axes>"
            ]
          },
          "metadata": {
            "tags": []
          },
          "output_type": "display_data"
        },
        {
          "data": {
            "text/plain": [
              "<Figure size 432x288 with 0 Axes>"
            ]
          },
          "metadata": {
            "tags": []
          },
          "output_type": "display_data"
        }
      ]
    },
    {
      "cell_type": "markdown",
      "metadata": {
        "id": "FgofNo1W3OvB"
      },
      "source": [
        "Terlihat pada grafik atau plot diatas, akurasi data validasi sudah lebih dari 0.9 atau 90%"
      ]
    },
    {
      "cell_type": "code",
      "metadata": {
        "id": "BshHoPXVpxl_"
      },
      "source": [
        "import numpy as np\n",
        "#Mengimport modul numpy\n",
        "\n",
        "from google.colab import files\n",
        "#Mengimport modul google colab untuk membantu mengimport file model\n",
        "\n",
        "from keras.preprocessing import image\n",
        "#Mengimport modul keras.preprocessing "
      ],
      "execution_count": null,
      "outputs": []
    },
    {
      "cell_type": "code",
      "metadata": {
        "colab": {
          "resources": {
            "http://localhost:8080/nbextensions/google.colab/files.js": {
              "data": "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",
              "headers": [
                [
                  "content-type",
                  "application/javascript"
                ]
              ],
              "ok": true,
              "status": 200,
              "status_text": ""
            }
          },
          "base_uri": "https://localhost:8080/",
          "height": 341
        },
        "id": "foemhIDPer2O",
        "outputId": "888177b7-0678-436f-c849-2e31ad7b40d0"
      },
      "source": [
        "##Mencoba membuat model prediksi\n",
        "\n",
        "upload_gambar = files.upload()\n",
        "#Untuk menampilkan pilihan untuk mengupload gambar\n",
        "\n",
        "for n in upload_gambar.keys():\n",
        "#Membuat sebuah perulangan for\n",
        "\n",
        "  path = n\n",
        "  #Membuat \n",
        "  \n",
        "  gmbr = image.load_img(path, target_size=(150, 150))\n",
        "  #Merubah ukuran gambar agar sesuai\n",
        "\n",
        "  gmbrplot = plt.imshow(gmbr)\n",
        "  #Untuk menampilkan gambar \n",
        "\n",
        "  x = image.img_to_array(gmbr)\n",
        "  #Membuat gambar menjadi array\n",
        "  x = np.expand_dims(x, axis=0)\n",
        "  #Menentukan dimensinya\n",
        "\n",
        "  gambar = np.vstack([x])\n",
        "  classes = model.predict(gambar, batch_size=126)\n",
        "  #Menentukan prediksi modelnya dari gambar tersebut\n",
        "\n",
        "  if classes[0][0]==1:\n",
        "  #Membuat perulangan if dengan kondisi pertama\n",
        "    print('Ini gambar Kertas')\n",
        "    #Jika memenuhi akan menampilkan string diatas                                \n",
        "  elif classes[0][1]==1:\n",
        "  #Membuat kondisi kedua\n",
        "    print('Ini gambar Batu')\n",
        "    #Jika memenuhi akan menampilkan string diatas                                  \n",
        "  elif classes[0][2]==1:\n",
        "  #Membuat kondisi ketiga\n",
        "    print('Ini gambar Gunting')\n",
        "    #Jika memenuhi akan menampilkan string diatas                              \n",
        "  else:\n",
        "  #Kondisi ke empat\n",
        "    print('Bukan ketiganya')\n",
        "    #Jika memenuhi akan menampilkan string diatas                                                    \n"
      ],
      "execution_count": null,
      "outputs": [
        {
          "data": {
            "text/html": [
              "\n",
              "     <input type=\"file\" id=\"files-66ab448b-ea94-42df-b76d-e25fe1850675\" name=\"files[]\" multiple disabled\n",
              "        style=\"border:none\" />\n",
              "     <output id=\"result-66ab448b-ea94-42df-b76d-e25fe1850675\">\n",
              "      Upload widget is only available when the cell has been executed in the\n",
              "      current browser session. Please rerun this cell to enable.\n",
              "      </output>\n",
              "      <script src=\"/nbextensions/google.colab/files.js\"></script> "
            ],
            "text/plain": [
              "<IPython.core.display.HTML object>"
            ]
          },
          "metadata": {
            "tags": []
          },
          "output_type": "display_data"
        },
        {
          "name": "stdout",
          "output_type": "stream",
          "text": [
            "Saving Screenshot 2021-05-26 010536.png to Screenshot 2021-05-26 010536 (4).png\n",
            "Ini gambar Kertas\n"
          ]
        },
        {
          "data": {
            "image/png": "[encoded data removed]",
            "text/plain": [
              "<Figure size 432x288 with 1 Axes>"
            ]
          },
          "metadata": {
            "tags": []
          },
          "output_type": "display_data"
        }
      ]
    },
    {
      "cell_type": "markdown",
      "metadata": {
        "id": "KIzcrQ3J3Zzg"
      },
      "source": [
        "Dan karena model Jaringan Syaraf Tiruan yang bertujuan untuk mengklasfikasi gambar sudah memenuhi kriteria yang di inginkan tim Dicoding sebagai tugas akhir maka menandakan tugas akhir yang penyusun susun ini sudah selesai.\n",
        "\n",
        "Saya sadar bahwa masih banyak kekurangan yang saya dapati selama belajar modul Machine Learning untuk Pemula dan membuat tugas akhirnya, tetapi itu membuat saya bersyukur karena bisa menjadi evaluasi buat diri saya sendiri.\n",
        "\n",
        "Kalau begitu saya Muhammad Athanabil Andi Fawazdhia sebagai penyusun mengucapkan terimakasih sekali lagi dan semoga tugas akhir saya ini dapat diterima.\n",
        "\n",
        "Semoga kita semua selalu diberi kesehatan oleh Tuha Yang Maha Esa."
      ]
    }
  ]
}